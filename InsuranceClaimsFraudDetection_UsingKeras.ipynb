{
 "cells": [
  {
   "cell_type": "markdown",
   "metadata": {},
   "source": [
    "<h1><center>Insurance Claims Fraud Detection</center></h1>"
   ]
  },
  {
   "cell_type": "markdown",
   "metadata": {},
   "source": [
    "## Business Problem\n",
    "\n",
    "An insurance company has approached you with a dataset of previous claims of their clients. The insurance company wants you to develop a model to help them predict which claims look fraudulent. By doing so you hope to save the company millions of dollars annually."
   ]
  },
  {
   "cell_type": "code",
   "execution_count": 30,
   "metadata": {
    "collapsed": true
   },
   "outputs": [],
   "source": [
    "#Import necessary libraries\n",
    "import pandas as pd\n",
    "import numpy as np\n",
    "import seaborn as sns\n",
    "import matplotlib.pyplot as plt\n",
    "%matplotlib inline"
   ]
  },
  {
   "cell_type": "code",
   "execution_count": 2,
   "metadata": {
    "collapsed": false
   },
   "outputs": [
    {
     "data": {
      "text/html": [
       "<div>\n",
       "<style scoped>\n",
       "    .dataframe tbody tr th:only-of-type {\n",
       "        vertical-align: middle;\n",
       "    }\n",
       "\n",
       "    .dataframe tbody tr th {\n",
       "        vertical-align: top;\n",
       "    }\n",
       "\n",
       "    .dataframe thead th {\n",
       "        text-align: right;\n",
       "    }\n",
       "</style>\n",
       "<table border=\"1\" class=\"dataframe\">\n",
       "  <thead>\n",
       "    <tr style=\"text-align: right;\">\n",
       "      <th></th>\n",
       "      <th>months_as_customer</th>\n",
       "      <th>age</th>\n",
       "      <th>policy_number</th>\n",
       "      <th>policy_bind_date</th>\n",
       "      <th>policy_state</th>\n",
       "      <th>policy_csl</th>\n",
       "      <th>policy_deductable</th>\n",
       "      <th>policy_annual_premium</th>\n",
       "      <th>umbrella_limit</th>\n",
       "      <th>insured_zip</th>\n",
       "      <th>...</th>\n",
       "      <th>witnesses</th>\n",
       "      <th>police_report_available</th>\n",
       "      <th>total_claim_amount</th>\n",
       "      <th>injury_claim</th>\n",
       "      <th>property_claim</th>\n",
       "      <th>vehicle_claim</th>\n",
       "      <th>auto_make</th>\n",
       "      <th>auto_model</th>\n",
       "      <th>auto_year</th>\n",
       "      <th>fraud_reported</th>\n",
       "    </tr>\n",
       "  </thead>\n",
       "  <tbody>\n",
       "    <tr>\n",
       "      <th>0</th>\n",
       "      <td>328</td>\n",
       "      <td>48</td>\n",
       "      <td>521585</td>\n",
       "      <td>2014-10-17</td>\n",
       "      <td>OH</td>\n",
       "      <td>250/500</td>\n",
       "      <td>1000</td>\n",
       "      <td>1406.91</td>\n",
       "      <td>0</td>\n",
       "      <td>466132</td>\n",
       "      <td>...</td>\n",
       "      <td>2</td>\n",
       "      <td>YES</td>\n",
       "      <td>71610</td>\n",
       "      <td>6510</td>\n",
       "      <td>13020</td>\n",
       "      <td>52080</td>\n",
       "      <td>Saab</td>\n",
       "      <td>92x</td>\n",
       "      <td>2004</td>\n",
       "      <td>Y</td>\n",
       "    </tr>\n",
       "    <tr>\n",
       "      <th>1</th>\n",
       "      <td>228</td>\n",
       "      <td>42</td>\n",
       "      <td>342868</td>\n",
       "      <td>2006-06-27</td>\n",
       "      <td>IN</td>\n",
       "      <td>250/500</td>\n",
       "      <td>2000</td>\n",
       "      <td>1197.22</td>\n",
       "      <td>5000000</td>\n",
       "      <td>468176</td>\n",
       "      <td>...</td>\n",
       "      <td>0</td>\n",
       "      <td>?</td>\n",
       "      <td>5070</td>\n",
       "      <td>780</td>\n",
       "      <td>780</td>\n",
       "      <td>3510</td>\n",
       "      <td>Mercedes</td>\n",
       "      <td>E400</td>\n",
       "      <td>2007</td>\n",
       "      <td>Y</td>\n",
       "    </tr>\n",
       "    <tr>\n",
       "      <th>2</th>\n",
       "      <td>134</td>\n",
       "      <td>29</td>\n",
       "      <td>687698</td>\n",
       "      <td>2000-09-06</td>\n",
       "      <td>OH</td>\n",
       "      <td>100/300</td>\n",
       "      <td>2000</td>\n",
       "      <td>1413.14</td>\n",
       "      <td>5000000</td>\n",
       "      <td>430632</td>\n",
       "      <td>...</td>\n",
       "      <td>3</td>\n",
       "      <td>NO</td>\n",
       "      <td>34650</td>\n",
       "      <td>7700</td>\n",
       "      <td>3850</td>\n",
       "      <td>23100</td>\n",
       "      <td>Dodge</td>\n",
       "      <td>RAM</td>\n",
       "      <td>2007</td>\n",
       "      <td>N</td>\n",
       "    </tr>\n",
       "    <tr>\n",
       "      <th>3</th>\n",
       "      <td>256</td>\n",
       "      <td>41</td>\n",
       "      <td>227811</td>\n",
       "      <td>1990-05-25</td>\n",
       "      <td>IL</td>\n",
       "      <td>250/500</td>\n",
       "      <td>2000</td>\n",
       "      <td>1415.74</td>\n",
       "      <td>6000000</td>\n",
       "      <td>608117</td>\n",
       "      <td>...</td>\n",
       "      <td>2</td>\n",
       "      <td>NO</td>\n",
       "      <td>63400</td>\n",
       "      <td>6340</td>\n",
       "      <td>6340</td>\n",
       "      <td>50720</td>\n",
       "      <td>Chevrolet</td>\n",
       "      <td>Tahoe</td>\n",
       "      <td>2014</td>\n",
       "      <td>Y</td>\n",
       "    </tr>\n",
       "    <tr>\n",
       "      <th>4</th>\n",
       "      <td>228</td>\n",
       "      <td>44</td>\n",
       "      <td>367455</td>\n",
       "      <td>2014-06-06</td>\n",
       "      <td>IL</td>\n",
       "      <td>500/1000</td>\n",
       "      <td>1000</td>\n",
       "      <td>1583.91</td>\n",
       "      <td>6000000</td>\n",
       "      <td>610706</td>\n",
       "      <td>...</td>\n",
       "      <td>1</td>\n",
       "      <td>NO</td>\n",
       "      <td>6500</td>\n",
       "      <td>1300</td>\n",
       "      <td>650</td>\n",
       "      <td>4550</td>\n",
       "      <td>Accura</td>\n",
       "      <td>RSX</td>\n",
       "      <td>2009</td>\n",
       "      <td>N</td>\n",
       "    </tr>\n",
       "  </tbody>\n",
       "</table>\n",
       "<p>5 rows × 39 columns</p>\n",
       "</div>"
      ],
      "text/plain": [
       "   months_as_customer  age  policy_number policy_bind_date policy_state  \\\n",
       "0                 328   48         521585       2014-10-17           OH   \n",
       "1                 228   42         342868       2006-06-27           IN   \n",
       "2                 134   29         687698       2000-09-06           OH   \n",
       "3                 256   41         227811       1990-05-25           IL   \n",
       "4                 228   44         367455       2014-06-06           IL   \n",
       "\n",
       "  policy_csl  policy_deductable  policy_annual_premium  umbrella_limit  \\\n",
       "0    250/500               1000                1406.91               0   \n",
       "1    250/500               2000                1197.22         5000000   \n",
       "2    100/300               2000                1413.14         5000000   \n",
       "3    250/500               2000                1415.74         6000000   \n",
       "4   500/1000               1000                1583.91         6000000   \n",
       "\n",
       "   insured_zip      ...       witnesses police_report_available  \\\n",
       "0       466132      ...               2                     YES   \n",
       "1       468176      ...               0                       ?   \n",
       "2       430632      ...               3                      NO   \n",
       "3       608117      ...               2                      NO   \n",
       "4       610706      ...               1                      NO   \n",
       "\n",
       "  total_claim_amount injury_claim property_claim  vehicle_claim  auto_make  \\\n",
       "0              71610         6510          13020          52080       Saab   \n",
       "1               5070          780            780           3510   Mercedes   \n",
       "2              34650         7700           3850          23100      Dodge   \n",
       "3              63400         6340           6340          50720  Chevrolet   \n",
       "4               6500         1300            650           4550     Accura   \n",
       "\n",
       "  auto_model auto_year fraud_reported  \n",
       "0        92x      2004              Y  \n",
       "1       E400      2007              Y  \n",
       "2        RAM      2007              N  \n",
       "3      Tahoe      2014              Y  \n",
       "4        RSX      2009              N  \n",
       "\n",
       "[5 rows x 39 columns]"
      ]
     },
     "execution_count": 2,
     "metadata": {},
     "output_type": "execute_result"
    }
   ],
   "source": [
    "#Load the dataset into a dataframe\n",
    "df = pd.read_csv('insurance_claims.csv')\n",
    "df.head()"
   ]
  },
  {
   "cell_type": "code",
   "execution_count": 3,
   "metadata": {
    "collapsed": false
   },
   "outputs": [
    {
     "data": {
      "text/plain": [
       "(1000, 39)"
      ]
     },
     "execution_count": 3,
     "metadata": {},
     "output_type": "execute_result"
    }
   ],
   "source": [
    "#Check the shape of the dataframe\n",
    "df.shape"
   ]
  },
  {
   "cell_type": "code",
   "execution_count": 4,
   "metadata": {
    "collapsed": false
   },
   "outputs": [
    {
     "data": {
      "text/plain": [
       "Index(['months_as_customer', 'age', 'policy_number', 'policy_bind_date',\n",
       "       'policy_state', 'policy_csl', 'policy_deductable',\n",
       "       'policy_annual_premium', 'umbrella_limit', 'insured_zip', 'insured_sex',\n",
       "       'insured_education_level', 'insured_occupation', 'insured_hobbies',\n",
       "       'insured_relationship', 'capital-gains', 'capital-loss',\n",
       "       'incident_date', 'incident_type', 'collision_type', 'incident_severity',\n",
       "       'authorities_contacted', 'incident_state', 'incident_city',\n",
       "       'incident_location', 'incident_hour_of_the_day',\n",
       "       'number_of_vehicles_involved', 'property_damage', 'bodily_injuries',\n",
       "       'witnesses', 'police_report_available', 'total_claim_amount',\n",
       "       'injury_claim', 'property_claim', 'vehicle_claim', 'auto_make',\n",
       "       'auto_model', 'auto_year', 'fraud_reported'],\n",
       "      dtype='object')"
      ]
     },
     "execution_count": 4,
     "metadata": {},
     "output_type": "execute_result"
    }
   ],
   "source": [
    "#Check the columns of the dataframe\n",
    "df.columns"
   ]
  },
  {
   "cell_type": "code",
   "execution_count": 5,
   "metadata": {
    "collapsed": false
   },
   "outputs": [
    {
     "name": "stdout",
     "output_type": "stream",
     "text": [
      "<class 'pandas.core.frame.DataFrame'>\n",
      "RangeIndex: 1000 entries, 0 to 999\n",
      "Data columns (total 39 columns):\n",
      "months_as_customer             1000 non-null int64\n",
      "age                            1000 non-null int64\n",
      "policy_number                  1000 non-null int64\n",
      "policy_bind_date               1000 non-null object\n",
      "policy_state                   1000 non-null object\n",
      "policy_csl                     1000 non-null object\n",
      "policy_deductable              1000 non-null int64\n",
      "policy_annual_premium          1000 non-null float64\n",
      "umbrella_limit                 1000 non-null int64\n",
      "insured_zip                    1000 non-null int64\n",
      "insured_sex                    1000 non-null object\n",
      "insured_education_level        1000 non-null object\n",
      "insured_occupation             1000 non-null object\n",
      "insured_hobbies                1000 non-null object\n",
      "insured_relationship           1000 non-null object\n",
      "capital-gains                  1000 non-null int64\n",
      "capital-loss                   1000 non-null int64\n",
      "incident_date                  1000 non-null object\n",
      "incident_type                  1000 non-null object\n",
      "collision_type                 1000 non-null object\n",
      "incident_severity              1000 non-null object\n",
      "authorities_contacted          1000 non-null object\n",
      "incident_state                 1000 non-null object\n",
      "incident_city                  1000 non-null object\n",
      "incident_location              1000 non-null object\n",
      "incident_hour_of_the_day       1000 non-null int64\n",
      "number_of_vehicles_involved    1000 non-null int64\n",
      "property_damage                1000 non-null object\n",
      "bodily_injuries                1000 non-null int64\n",
      "witnesses                      1000 non-null int64\n",
      "police_report_available        1000 non-null object\n",
      "total_claim_amount             1000 non-null int64\n",
      "injury_claim                   1000 non-null int64\n",
      "property_claim                 1000 non-null int64\n",
      "vehicle_claim                  1000 non-null int64\n",
      "auto_make                      1000 non-null object\n",
      "auto_model                     1000 non-null object\n",
      "auto_year                      1000 non-null int64\n",
      "fraud_reported                 1000 non-null object\n",
      "dtypes: float64(1), int64(17), object(21)\n",
      "memory usage: 304.8+ KB\n"
     ]
    }
   ],
   "source": [
    "#check the data types of each column\n",
    "df.info()"
   ]
  },
  {
   "cell_type": "code",
   "execution_count": 6,
   "metadata": {
    "collapsed": false
   },
   "outputs": [
    {
     "data": {
      "text/plain": [
       "['policy_bind_date',\n",
       " 'policy_state',\n",
       " 'policy_csl',\n",
       " 'insured_sex',\n",
       " 'insured_education_level',\n",
       " 'insured_occupation',\n",
       " 'insured_hobbies',\n",
       " 'insured_relationship',\n",
       " 'incident_date',\n",
       " 'incident_type',\n",
       " 'collision_type',\n",
       " 'incident_severity',\n",
       " 'authorities_contacted',\n",
       " 'incident_state',\n",
       " 'incident_city',\n",
       " 'incident_location',\n",
       " 'property_damage',\n",
       " 'police_report_available',\n",
       " 'auto_make',\n",
       " 'auto_model',\n",
       " 'fraud_reported']"
      ]
     },
     "execution_count": 6,
     "metadata": {},
     "output_type": "execute_result"
    }
   ],
   "source": [
    "objectcols = [col for col in df.columns if df[col].dtype == object]\n",
    "objectcols"
   ]
  },
  {
   "cell_type": "code",
   "execution_count": 7,
   "metadata": {
    "collapsed": false
   },
   "outputs": [
    {
     "data": {
      "text/html": [
       "<div>\n",
       "<style scoped>\n",
       "    .dataframe tbody tr th:only-of-type {\n",
       "        vertical-align: middle;\n",
       "    }\n",
       "\n",
       "    .dataframe tbody tr th {\n",
       "        vertical-align: top;\n",
       "    }\n",
       "\n",
       "    .dataframe thead th {\n",
       "        text-align: right;\n",
       "    }\n",
       "</style>\n",
       "<table border=\"1\" class=\"dataframe\">\n",
       "  <thead>\n",
       "    <tr style=\"text-align: right;\">\n",
       "      <th></th>\n",
       "      <th>months_as_customer</th>\n",
       "      <th>age</th>\n",
       "      <th>policy_number</th>\n",
       "      <th>policy_bind_date</th>\n",
       "      <th>policy_csl</th>\n",
       "      <th>policy_deductable</th>\n",
       "      <th>policy_annual_premium</th>\n",
       "      <th>umbrella_limit</th>\n",
       "      <th>insured_zip</th>\n",
       "      <th>capital-gains</th>\n",
       "      <th>...</th>\n",
       "      <th>auto_model_TL</th>\n",
       "      <th>auto_model_Tahoe</th>\n",
       "      <th>auto_model_Ultima</th>\n",
       "      <th>auto_model_Wrangler</th>\n",
       "      <th>auto_model_X5</th>\n",
       "      <th>auto_model_X6</th>\n",
       "      <th>fraud_reported_Y</th>\n",
       "      <th>incident_type_Parked Car</th>\n",
       "      <th>incident_type_Single Vehicle Collision</th>\n",
       "      <th>incident_type_Vehicle Theft</th>\n",
       "    </tr>\n",
       "  </thead>\n",
       "  <tbody>\n",
       "    <tr>\n",
       "      <th>0</th>\n",
       "      <td>328</td>\n",
       "      <td>48</td>\n",
       "      <td>521585</td>\n",
       "      <td>2014-10-17</td>\n",
       "      <td>250/500</td>\n",
       "      <td>1000</td>\n",
       "      <td>1406.91</td>\n",
       "      <td>0</td>\n",
       "      <td>466132</td>\n",
       "      <td>53300</td>\n",
       "      <td>...</td>\n",
       "      <td>0</td>\n",
       "      <td>0</td>\n",
       "      <td>0</td>\n",
       "      <td>0</td>\n",
       "      <td>0</td>\n",
       "      <td>0</td>\n",
       "      <td>1</td>\n",
       "      <td>0</td>\n",
       "      <td>1</td>\n",
       "      <td>0</td>\n",
       "    </tr>\n",
       "    <tr>\n",
       "      <th>1</th>\n",
       "      <td>228</td>\n",
       "      <td>42</td>\n",
       "      <td>342868</td>\n",
       "      <td>2006-06-27</td>\n",
       "      <td>250/500</td>\n",
       "      <td>2000</td>\n",
       "      <td>1197.22</td>\n",
       "      <td>5000000</td>\n",
       "      <td>468176</td>\n",
       "      <td>0</td>\n",
       "      <td>...</td>\n",
       "      <td>0</td>\n",
       "      <td>0</td>\n",
       "      <td>0</td>\n",
       "      <td>0</td>\n",
       "      <td>0</td>\n",
       "      <td>0</td>\n",
       "      <td>1</td>\n",
       "      <td>0</td>\n",
       "      <td>0</td>\n",
       "      <td>1</td>\n",
       "    </tr>\n",
       "    <tr>\n",
       "      <th>2</th>\n",
       "      <td>134</td>\n",
       "      <td>29</td>\n",
       "      <td>687698</td>\n",
       "      <td>2000-09-06</td>\n",
       "      <td>100/300</td>\n",
       "      <td>2000</td>\n",
       "      <td>1413.14</td>\n",
       "      <td>5000000</td>\n",
       "      <td>430632</td>\n",
       "      <td>35100</td>\n",
       "      <td>...</td>\n",
       "      <td>0</td>\n",
       "      <td>0</td>\n",
       "      <td>0</td>\n",
       "      <td>0</td>\n",
       "      <td>0</td>\n",
       "      <td>0</td>\n",
       "      <td>0</td>\n",
       "      <td>0</td>\n",
       "      <td>0</td>\n",
       "      <td>0</td>\n",
       "    </tr>\n",
       "    <tr>\n",
       "      <th>3</th>\n",
       "      <td>256</td>\n",
       "      <td>41</td>\n",
       "      <td>227811</td>\n",
       "      <td>1990-05-25</td>\n",
       "      <td>250/500</td>\n",
       "      <td>2000</td>\n",
       "      <td>1415.74</td>\n",
       "      <td>6000000</td>\n",
       "      <td>608117</td>\n",
       "      <td>48900</td>\n",
       "      <td>...</td>\n",
       "      <td>0</td>\n",
       "      <td>1</td>\n",
       "      <td>0</td>\n",
       "      <td>0</td>\n",
       "      <td>0</td>\n",
       "      <td>0</td>\n",
       "      <td>1</td>\n",
       "      <td>0</td>\n",
       "      <td>1</td>\n",
       "      <td>0</td>\n",
       "    </tr>\n",
       "    <tr>\n",
       "      <th>4</th>\n",
       "      <td>228</td>\n",
       "      <td>44</td>\n",
       "      <td>367455</td>\n",
       "      <td>2014-06-06</td>\n",
       "      <td>500/1000</td>\n",
       "      <td>1000</td>\n",
       "      <td>1583.91</td>\n",
       "      <td>6000000</td>\n",
       "      <td>610706</td>\n",
       "      <td>66000</td>\n",
       "      <td>...</td>\n",
       "      <td>0</td>\n",
       "      <td>0</td>\n",
       "      <td>0</td>\n",
       "      <td>0</td>\n",
       "      <td>0</td>\n",
       "      <td>0</td>\n",
       "      <td>0</td>\n",
       "      <td>0</td>\n",
       "      <td>0</td>\n",
       "      <td>1</td>\n",
       "    </tr>\n",
       "  </tbody>\n",
       "</table>\n",
       "<p>5 rows × 1147 columns</p>\n",
       "</div>"
      ],
      "text/plain": [
       "   months_as_customer  age  policy_number policy_bind_date policy_csl  \\\n",
       "0                 328   48         521585       2014-10-17    250/500   \n",
       "1                 228   42         342868       2006-06-27    250/500   \n",
       "2                 134   29         687698       2000-09-06    100/300   \n",
       "3                 256   41         227811       1990-05-25    250/500   \n",
       "4                 228   44         367455       2014-06-06   500/1000   \n",
       "\n",
       "   policy_deductable  policy_annual_premium  umbrella_limit  insured_zip  \\\n",
       "0               1000                1406.91               0       466132   \n",
       "1               2000                1197.22         5000000       468176   \n",
       "2               2000                1413.14         5000000       430632   \n",
       "3               2000                1415.74         6000000       608117   \n",
       "4               1000                1583.91         6000000       610706   \n",
       "\n",
       "   capital-gains             ...               auto_model_TL auto_model_Tahoe  \\\n",
       "0          53300             ...                           0                0   \n",
       "1              0             ...                           0                0   \n",
       "2          35100             ...                           0                0   \n",
       "3          48900             ...                           0                1   \n",
       "4          66000             ...                           0                0   \n",
       "\n",
       "   auto_model_Ultima  auto_model_Wrangler  auto_model_X5  auto_model_X6  \\\n",
       "0                  0                    0              0              0   \n",
       "1                  0                    0              0              0   \n",
       "2                  0                    0              0              0   \n",
       "3                  0                    0              0              0   \n",
       "4                  0                    0              0              0   \n",
       "\n",
       "   fraud_reported_Y  incident_type_Parked Car  \\\n",
       "0                 1                         0   \n",
       "1                 1                         0   \n",
       "2                 0                         0   \n",
       "3                 1                         0   \n",
       "4                 0                         0   \n",
       "\n",
       "   incident_type_Single Vehicle Collision  incident_type_Vehicle Theft  \n",
       "0                                       1                            0  \n",
       "1                                       0                            1  \n",
       "2                                       0                            0  \n",
       "3                                       1                            0  \n",
       "4                                       0                            1  \n",
       "\n",
       "[5 rows x 1147 columns]"
      ]
     },
     "execution_count": 7,
     "metadata": {},
     "output_type": "execute_result"
    }
   ],
   "source": [
    "feats = ['policy_state','insured_sex', 'insured_education_level','insured_occupation','insured_hobbies','insured_relationship',\\\n",
    "         'collision_type','incident_severity','authorities_contacted','incident_state','incident_city','incident_location',\\\n",
    "         'property_damage','police_report_available','auto_make','auto_model','fraud_reported','incident_type']\n",
    "df_final = pd.get_dummies(df,columns=feats,drop_first=True)\n",
    "df_final.head()"
   ]
  },
  {
   "cell_type": "code",
   "execution_count": 33,
   "metadata": {
    "collapsed": true
   },
   "outputs": [],
   "source": [
    "#We use sklearn’s train_test_split to split the data into a training set and a test set.\n",
    "from sklearn.model_selection import train_test_split\n",
    "\n",
    "X = df_final.drop(['fraud_reported_Y','policy_csl','policy_bind_date','incident_date'],axis=1).values\n",
    "y = df_final['fraud_reported_Y'].values\n",
    "\n",
    "X_train, X_test, y_train, y_test = train_test_split(X, y, test_size=0.3)"
   ]
  },
  {
   "cell_type": "markdown",
   "metadata": {},
   "source": [
    "Due to the massive amounts of computations taking place in deep learning, feature scaling is compulsory. Feature scaling standardizes the range of our independent variables."
   ]
  },
  {
   "cell_type": "code",
   "execution_count": 34,
   "metadata": {
    "collapsed": true
   },
   "outputs": [],
   "source": [
    "from sklearn.preprocessing import StandardScaler\n",
    "sc = StandardScaler()\n",
    "X_train = sc.fit_transform(X_train)\n",
    "X_test = sc.transform(X_test)"
   ]
  },
  {
   "cell_type": "code",
   "execution_count": 35,
   "metadata": {
    "collapsed": false
   },
   "outputs": [
    {
     "name": "stdout",
     "output_type": "stream",
     "text": [
      "(700, 1143)\n",
      "(300, 1143)\n",
      "(700,)\n",
      "(300,)\n"
     ]
    }
   ],
   "source": [
    "print(X_train.shape)\n",
    "print(X_test.shape)\n",
    "print(y_train.shape)\n",
    "print(y_test.shape)"
   ]
  },
  {
   "cell_type": "code",
   "execution_count": 36,
   "metadata": {
    "collapsed": false
   },
   "outputs": [
    {
     "name": "stdout",
     "output_type": "stream",
     "text": [
      "<class 'numpy.ndarray'>\n",
      "<class 'numpy.ndarray'>\n"
     ]
    }
   ],
   "source": [
    "print(type(X_train))\n",
    "print(type(X_test))"
   ]
  },
  {
   "cell_type": "code",
   "execution_count": 37,
   "metadata": {
    "collapsed": false
   },
   "outputs": [
    {
     "data": {
      "text/plain": [
       "Text(15,0.9,'15')"
      ]
     },
     "execution_count": 37,
     "metadata": {},
     "output_type": "execute_result"
    },
    {
     "data": {
      "image/png": "[encoded data removed]",
      "text/plain": [
       "<Figure size 432x288 with 1 Axes>"
      ]
     },
     "metadata": {},
     "output_type": "display_data"
    }
   ],
   "source": [
    "# apply PCA on X_train\n",
    "from sklearn.decomposition import PCA\n",
    "pca = PCA().fit(X_train)\n",
    "plt.plot(np.cumsum(pca.explained_variance_ratio_))\n",
    "plt.xlabel('Number of components')\n",
    "plt.ylabel('Cumulative explained variance')\n",
    "plt.annotate('15',xy=(15, .90))"
   ]
  },
  {
   "cell_type": "code",
   "execution_count": null,
   "metadata": {
    "collapsed": true
   },
   "outputs": [],
   "source": [
    "# individual explained variance\n",
    "plt.figure(figsize=(10, 5))\n",
    "\n",
    "plt.bar(range(44), pca.explained_variance_, alpha=0.5,\n",
    "            label='individual explained variance')\n",
    "plt.ylabel('Explained variance ratio')\n",
    "plt.xlabel('Principal components')\n",
    "plt.legend(loc='best')"
   ]
  },
  {
   "cell_type": "code",
   "execution_count": 12,
   "metadata": {
    "collapsed": false
   },
   "outputs": [
    {
     "name": "stderr",
     "output_type": "stream",
     "text": [
      "Using TensorFlow backend.\n"
     ]
    }
   ],
   "source": [
    "#import keras and its modules\n",
    "import keras\n",
    "from keras.models import Sequential #Sequential module is required to initialize ANN\n",
    "from keras.layers import Dense #Dense module is required to build the layers of ANN"
   ]
  },
  {
   "cell_type": "markdown",
   "metadata": {},
   "source": [
    "Next we need to initialize our ANN by creating an instance of Sequential. The Sequential function initializes a linear stack of layers. This allows us to add more layers later using the Dense module."
   ]
  },
  {
   "cell_type": "code",
   "execution_count": 13,
   "metadata": {
    "collapsed": false
   },
   "outputs": [],
   "source": [
    "classifier = Sequential()"
   ]
  },
  {
   "cell_type": "markdown",
   "metadata": {},
   "source": [
    "<b>Adding input layer (First Hidden Layer)</b>\n",
    "\n",
    "We use the add method to add different layers to our ANN. The first parameter is the number of nodes you want to add to this layer. There is no rule of thumb as to how many nodes you should add. However a common strategy is to choose the number of nodes as the average of nodes in the input layer and the number of nodes in the output layer.\n",
    "\n",
    "Say for example you had five independent variables and one output. Then you would take the sum of that and divide by two, which is three. You can also decide to experiment with a technique called parameter tuning. The second parameter, kernel_initializer, is the function that will be used to initialize the weights. In this case, it will use a uniform distribution to make sure that the weights are small numbers close to zero. The next parameter is the activation function. We use the Rectifier function, shortened as relu. We mostly use this function for the hidden layer in ANN. The final parameter is input_dim, which is the number of nodes in the input layer. It represents the number of independent variables."
   ]
  },
  {
   "cell_type": "code",
   "execution_count": 19,
   "metadata": {
    "collapsed": false
   },
   "outputs": [],
   "source": [
    "classifier.add(\n",
    "        Dense(500, kernel_initializer = 'uniform',\n",
    "              activation = 'relu', input_dim=1143))"
   ]
  },
  {
   "cell_type": "markdown",
   "metadata": {},
   "source": [
    "<b>Adding Second Hidden Layer</b>\n",
    "\n",
    "Adding the second hidden layer is similar to adding the first hidden layer. \n",
    "\n",
    "We don’t need to specify the input_dim parameter because we have already specified it in the first hidden layer. In the first hidden layer we specified this in order to let the layer know how many input nodes to expect. In the second hidden layer the ANN already knows how many input nodes to expect so we don’t need to repeat ourselves."
   ]
  },
  {
   "cell_type": "code",
   "execution_count": 20,
   "metadata": {
    "collapsed": true
   },
   "outputs": [],
   "source": [
    "classifier.add(\n",
    "        Dense(500, kernel_initializer = 'uniform',\n",
    "              activation = 'relu'))"
   ]
  },
  {
   "cell_type": "markdown",
   "metadata": {},
   "source": [
    "<b>Adding the Output layer</b>\n",
    "\n",
    "We change the first parameter because in our output node we expect one node. This is because we are only interested in knowing whether a claim was fraudulent or not. We change the activation function because we want to get the probabilities that a claim is fraudulent. We do this by using the Sigmoid activation function. In case you’re dealing with a classification problem that has more than two classes (i.e. classifying cats, dogs, and monkeys) we’d need to change two things. We ‘d change the first parameter to 3 and change the activation function to softmax. Softmax is a sigmoid function applied to an independent variable with more than two categories."
   ]
  },
  {
   "cell_type": "code",
   "execution_count": 21,
   "metadata": {
    "collapsed": true
   },
   "outputs": [],
   "source": [
    "classifier.add(\n",
    "     Dense(1, kernel_initializer = 'uniform',\n",
    "           activation = 'sigmoid'))"
   ]
  },
  {
   "cell_type": "markdown",
   "metadata": {},
   "source": [
    "<b>Compiling the ANN</b>\n",
    "\n",
    "Compiling is basically applying a stochastic gradient descent to the whole neural network. The first parameter is the algorithm you want to use to get the optimal set of weights in the neural network. The algorithm used here is a stochastic gradient algorithm. There are many variants of this. A very efficient one to use is adam. The second parameter is the loss function within the stochastic gradient algorithm. Since our categories are binary we use the binary_crossentropy loss function. Otherwise we would have used categorical_crossentopy. The final argument is the criterion we’ll use to evaluate our model. In this case we use the accuracy."
   ]
  },
  {
   "cell_type": "code",
   "execution_count": 22,
   "metadata": {
    "collapsed": false
   },
   "outputs": [],
   "source": [
    "classifier.compile(optimizer= 'adam',\n",
    "                  loss = 'binary_crossentropy',\n",
    "                  metrics = ['accuracy'])"
   ]
  },
  {
   "cell_type": "markdown",
   "metadata": {
    "collapsed": true
   },
   "source": [
    "<b>Fitting ANN to the training set</b>\n",
    "\n",
    "X_train represents the independent variables we’re using to train our ANN, and y_train represents the column we’re predicting. Epochs represents the number of times we’re going to pass our full dataset through the ANN. Batch_size is the number of observations after which the weights will be updated."
   ]
  },
  {
   "cell_type": "code",
   "execution_count": 23,
   "metadata": {
    "collapsed": false
   },
   "outputs": [
    {
     "name": "stdout",
     "output_type": "stream",
     "text": [
      "Train on 700 samples, validate on 300 samples\n",
      "Epoch 1/100\n",
      " - 1s - loss: 0.4529 - acc: 0.9000 - val_loss: 0.9810 - val_acc: 0.7500\n",
      "Epoch 2/100\n",
      " - 0s - loss: 0.2182 - acc: 0.8943 - val_loss: 1.2885 - val_acc: 0.7500\n",
      "Epoch 3/100\n",
      " - 1s - loss: 0.2072 - acc: 0.9043 - val_loss: 1.3996 - val_acc: 0.7500\n",
      "Epoch 4/100\n",
      " - 0s - loss: 0.2092 - acc: 0.9043 - val_loss: 1.6714 - val_acc: 0.7500\n",
      "Epoch 5/100\n",
      " - 0s - loss: 0.2065 - acc: 0.9043 - val_loss: 1.7416 - val_acc: 0.7500\n",
      "Epoch 6/100\n",
      " - 0s - loss: 0.2041 - acc: 0.9043 - val_loss: 1.7789 - val_acc: 0.7500\n",
      "Epoch 7/100\n",
      " - 0s - loss: 0.2045 - acc: 0.9043 - val_loss: 1.9077 - val_acc: 0.7500\n",
      "Epoch 8/100\n",
      " - 1s - loss: 0.2038 - acc: 0.9043 - val_loss: 1.8930 - val_acc: 0.7500\n",
      "Epoch 9/100\n",
      " - 0s - loss: 0.2061 - acc: 0.9043 - val_loss: 1.9429 - val_acc: 0.7500\n",
      "Epoch 10/100\n",
      " - 0s - loss: 0.2057 - acc: 0.9043 - val_loss: 1.9925 - val_acc: 0.7500\n",
      "Epoch 11/100\n",
      " - 0s - loss: 0.2035 - acc: 0.9043 - val_loss: 1.9778 - val_acc: 0.7500\n",
      "Epoch 12/100\n",
      " - 0s - loss: 0.2080 - acc: 0.9043 - val_loss: 2.0507 - val_acc: 0.7500\n",
      "Epoch 13/100\n",
      " - 0s - loss: 0.2057 - acc: 0.9043 - val_loss: 2.0848 - val_acc: 0.7500\n",
      "Epoch 14/100\n",
      " - 0s - loss: 0.2043 - acc: 0.9043 - val_loss: 2.1745 - val_acc: 0.7500\n",
      "Epoch 15/100\n",
      " - 1s - loss: 0.2055 - acc: 0.9043 - val_loss: 2.2299 - val_acc: 0.7500\n",
      "Epoch 16/100\n",
      " - 0s - loss: 0.2062 - acc: 0.9043 - val_loss: 2.2704 - val_acc: 0.7500\n",
      "Epoch 17/100\n",
      " - 0s - loss: 0.2059 - acc: 0.9043 - val_loss: 2.2888 - val_acc: 0.7500\n",
      "Epoch 18/100\n",
      " - 1s - loss: 0.2033 - acc: 0.9043 - val_loss: 2.3195 - val_acc: 0.7500\n",
      "Epoch 19/100\n",
      " - 0s - loss: 0.2056 - acc: 0.9043 - val_loss: 2.3549 - val_acc: 0.7500\n",
      "Epoch 20/100\n",
      " - 0s - loss: 0.2057 - acc: 0.9043 - val_loss: 2.3784 - val_acc: 0.7500\n",
      "Epoch 21/100\n",
      " - 0s - loss: 0.2059 - acc: 0.9043 - val_loss: 2.4071 - val_acc: 0.7500\n",
      "Epoch 22/100\n",
      " - 0s - loss: 0.2047 - acc: 0.9043 - val_loss: 2.4287 - val_acc: 0.7500\n",
      "Epoch 23/100\n",
      " - 0s - loss: 0.2047 - acc: 0.9043 - val_loss: 2.4476 - val_acc: 0.7500\n",
      "Epoch 24/100\n",
      " - 0s - loss: 0.2018 - acc: 0.9043 - val_loss: 2.4784 - val_acc: 0.7500\n",
      "Epoch 25/100\n",
      " - 0s - loss: 0.2054 - acc: 0.9043 - val_loss: 2.4792 - val_acc: 0.7500\n",
      "Epoch 26/100\n",
      " - 1s - loss: 0.2075 - acc: 0.9043 - val_loss: 2.4777 - val_acc: 0.7500\n",
      "Epoch 27/100\n",
      " - 1s - loss: 0.2043 - acc: 0.9043 - val_loss: 2.5145 - val_acc: 0.7500\n",
      "Epoch 28/100\n",
      " - 1s - loss: 0.2040 - acc: 0.9043 - val_loss: 2.5396 - val_acc: 0.7500\n",
      "Epoch 29/100\n",
      " - 1s - loss: 0.2047 - acc: 0.9043 - val_loss: 2.5340 - val_acc: 0.7500\n",
      "Epoch 30/100\n",
      " - 0s - loss: 0.2098 - acc: 0.9043 - val_loss: 2.5240 - val_acc: 0.7500\n",
      "Epoch 31/100\n",
      " - 0s - loss: 0.2044 - acc: 0.9043 - val_loss: 2.5407 - val_acc: 0.7500\n",
      "Epoch 32/100\n",
      " - 1s - loss: 0.2061 - acc: 0.9043 - val_loss: 2.5514 - val_acc: 0.7500\n",
      "Epoch 33/100\n",
      " - 0s - loss: 0.2043 - acc: 0.9043 - val_loss: 2.6069 - val_acc: 0.7500\n",
      "Epoch 34/100\n",
      " - 0s - loss: 0.2075 - acc: 0.9043 - val_loss: 2.5983 - val_acc: 0.7500\n",
      "Epoch 35/100\n",
      " - 0s - loss: 0.2052 - acc: 0.9043 - val_loss: 2.6319 - val_acc: 0.7500\n",
      "Epoch 36/100\n",
      " - 0s - loss: 0.2043 - acc: 0.9043 - val_loss: 2.6379 - val_acc: 0.7500\n",
      "Epoch 37/100\n",
      " - 0s - loss: 0.2043 - acc: 0.9043 - val_loss: 2.6820 - val_acc: 0.7500\n",
      "Epoch 38/100\n",
      " - 0s - loss: 0.2063 - acc: 0.9043 - val_loss: 2.6882 - val_acc: 0.7500\n",
      "Epoch 39/100\n",
      " - 0s - loss: 0.2046 - acc: 0.9043 - val_loss: 2.7165 - val_acc: 0.7500\n",
      "Epoch 40/100\n",
      " - 0s - loss: 0.2033 - acc: 0.9043 - val_loss: 2.7358 - val_acc: 0.7500\n",
      "Epoch 41/100\n",
      " - 1s - loss: 0.2034 - acc: 0.9043 - val_loss: 2.7618 - val_acc: 0.7500\n",
      "Epoch 42/100\n",
      " - 1s - loss: 0.2035 - acc: 0.9043 - val_loss: 2.7632 - val_acc: 0.7500\n",
      "Epoch 43/100\n",
      " - 1s - loss: 0.2052 - acc: 0.9043 - val_loss: 2.7784 - val_acc: 0.7500\n",
      "Epoch 44/100\n",
      " - 0s - loss: 0.2028 - acc: 0.9043 - val_loss: 2.7814 - val_acc: 0.7500\n",
      "Epoch 45/100\n",
      " - 0s - loss: 0.2074 - acc: 0.9043 - val_loss: 2.7884 - val_acc: 0.7500\n",
      "Epoch 46/100\n",
      " - 1s - loss: 0.2032 - acc: 0.9043 - val_loss: 2.8003 - val_acc: 0.7500\n",
      "Epoch 47/100\n",
      " - 0s - loss: 0.2032 - acc: 0.9043 - val_loss: 2.8186 - val_acc: 0.7500\n",
      "Epoch 48/100\n",
      " - 1s - loss: 0.2046 - acc: 0.9043 - val_loss: 2.8434 - val_acc: 0.7500\n",
      "Epoch 49/100\n",
      " - 1s - loss: 0.2055 - acc: 0.9043 - val_loss: 2.8326 - val_acc: 0.7500\n",
      "Epoch 50/100\n",
      " - 1s - loss: 0.2041 - acc: 0.9043 - val_loss: 2.8521 - val_acc: 0.7500\n",
      "Epoch 51/100\n",
      " - 1s - loss: 0.2041 - acc: 0.9043 - val_loss: 2.8772 - val_acc: 0.7500\n",
      "Epoch 52/100\n",
      " - 1s - loss: 0.2042 - acc: 0.9043 - val_loss: 2.8868 - val_acc: 0.7500\n",
      "Epoch 53/100\n",
      " - 1s - loss: 0.2060 - acc: 0.9043 - val_loss: 2.8745 - val_acc: 0.7500\n",
      "Epoch 54/100\n",
      " - 1s - loss: 0.2051 - acc: 0.9043 - val_loss: 2.8949 - val_acc: 0.7500\n",
      "Epoch 55/100\n",
      " - 0s - loss: 0.2045 - acc: 0.9043 - val_loss: 2.9070 - val_acc: 0.7500\n",
      "Epoch 56/100\n",
      " - 0s - loss: 0.2034 - acc: 0.9043 - val_loss: 2.9287 - val_acc: 0.7500\n",
      "Epoch 57/100\n",
      " - 1s - loss: 0.2032 - acc: 0.9043 - val_loss: 2.9448 - val_acc: 0.7500\n",
      "Epoch 58/100\n",
      " - 1s - loss: 0.2036 - acc: 0.9043 - val_loss: 2.9630 - val_acc: 0.7500\n",
      "Epoch 59/100\n",
      " - 1s - loss: 0.2038 - acc: 0.9043 - val_loss: 2.9399 - val_acc: 0.7500\n",
      "Epoch 60/100\n",
      " - 0s - loss: 0.2024 - acc: 0.9043 - val_loss: 2.9464 - val_acc: 0.7500\n",
      "Epoch 61/100\n",
      " - 1s - loss: 0.2052 - acc: 0.9043 - val_loss: 2.9721 - val_acc: 0.7500\n",
      "Epoch 62/100\n",
      " - 0s - loss: 0.2052 - acc: 0.9043 - val_loss: 2.9670 - val_acc: 0.7500\n",
      "Epoch 63/100\n",
      " - 1s - loss: 0.2032 - acc: 0.9043 - val_loss: 2.9741 - val_acc: 0.7500\n",
      "Epoch 64/100\n",
      " - 1s - loss: 0.2032 - acc: 0.9043 - val_loss: 3.0048 - val_acc: 0.7500\n",
      "Epoch 65/100\n",
      " - 1s - loss: 0.2052 - acc: 0.9043 - val_loss: 2.9558 - val_acc: 0.7500\n",
      "Epoch 66/100\n",
      " - 1s - loss: 0.2049 - acc: 0.9043 - val_loss: 2.9640 - val_acc: 0.7500\n",
      "Epoch 67/100\n",
      " - 1s - loss: 0.2038 - acc: 0.9043 - val_loss: 2.9720 - val_acc: 0.7500\n",
      "Epoch 68/100\n",
      " - 1s - loss: 0.2040 - acc: 0.9043 - val_loss: 2.9430 - val_acc: 0.7500\n",
      "Epoch 69/100\n",
      " - 1s - loss: 0.2030 - acc: 0.9043 - val_loss: 3.0065 - val_acc: 0.7500\n",
      "Epoch 70/100\n",
      " - 1s - loss: 0.2062 - acc: 0.9043 - val_loss: 3.0135 - val_acc: 0.7500\n",
      "Epoch 71/100\n",
      " - 1s - loss: 0.2058 - acc: 0.9043 - val_loss: 2.9803 - val_acc: 0.7500\n",
      "Epoch 72/100\n",
      " - 0s - loss: 0.2041 - acc: 0.9043 - val_loss: 2.9831 - val_acc: 0.7500\n",
      "Epoch 73/100\n",
      " - 1s - loss: 0.2048 - acc: 0.9043 - val_loss: 3.0241 - val_acc: 0.7500\n",
      "Epoch 74/100\n",
      " - 1s - loss: 0.2029 - acc: 0.9043 - val_loss: 3.0670 - val_acc: 0.7500\n",
      "Epoch 75/100\n",
      " - 0s - loss: 0.2047 - acc: 0.9043 - val_loss: 3.0515 - val_acc: 0.7500\n",
      "Epoch 76/100\n",
      " - 1s - loss: 0.2032 - acc: 0.9043 - val_loss: 3.0600 - val_acc: 0.7500\n",
      "Epoch 77/100\n",
      " - 1s - loss: 0.2042 - acc: 0.9043 - val_loss: 3.1226 - val_acc: 0.7500\n",
      "Epoch 78/100\n",
      " - 1s - loss: 0.2053 - acc: 0.9043 - val_loss: 3.1067 - val_acc: 0.7500\n",
      "Epoch 79/100\n",
      " - 1s - loss: 0.2041 - acc: 0.9043 - val_loss: 3.1190 - val_acc: 0.7500\n",
      "Epoch 80/100\n",
      " - 1s - loss: 0.2048 - acc: 0.9043 - val_loss: 3.1301 - val_acc: 0.7500\n",
      "Epoch 81/100\n",
      " - 1s - loss: 0.2040 - acc: 0.9043 - val_loss: 3.1239 - val_acc: 0.7500\n",
      "Epoch 82/100\n",
      " - 1s - loss: 0.2051 - acc: 0.9043 - val_loss: 3.1474 - val_acc: 0.7500\n",
      "Epoch 83/100\n",
      " - 1s - loss: 0.2045 - acc: 0.9043 - val_loss: 3.1747 - val_acc: 0.7500\n",
      "Epoch 84/100\n",
      " - 1s - loss: 0.2039 - acc: 0.9043 - val_loss: 3.1279 - val_acc: 0.7500\n",
      "Epoch 85/100\n",
      " - 1s - loss: 0.2055 - acc: 0.9043 - val_loss: 3.1006 - val_acc: 0.7500\n",
      "Epoch 86/100\n",
      " - 1s - loss: 0.2036 - acc: 0.9043 - val_loss: 3.1417 - val_acc: 0.7500\n",
      "Epoch 87/100\n",
      " - 1s - loss: 0.2036 - acc: 0.9043 - val_loss: 3.1887 - val_acc: 0.7500\n",
      "Epoch 88/100\n",
      " - 1s - loss: 0.2041 - acc: 0.9043 - val_loss: 3.1603 - val_acc: 0.7500\n",
      "Epoch 89/100\n",
      " - 1s - loss: 0.2046 - acc: 0.9043 - val_loss: 3.1429 - val_acc: 0.7500\n",
      "Epoch 90/100\n",
      " - 1s - loss: 0.2051 - acc: 0.9043 - val_loss: 3.1962 - val_acc: 0.7500\n",
      "Epoch 91/100\n",
      " - 1s - loss: 0.2033 - acc: 0.9043 - val_loss: 3.1961 - val_acc: 0.7500\n",
      "Epoch 92/100\n",
      " - 1s - loss: 0.2037 - acc: 0.9043 - val_loss: 3.2564 - val_acc: 0.7500\n",
      "Epoch 93/100\n",
      " - 1s - loss: 0.2053 - acc: 0.9043 - val_loss: 3.2812 - val_acc: 0.7500\n",
      "Epoch 94/100\n",
      " - 1s - loss: 0.2038 - acc: 0.9043 - val_loss: 3.2923 - val_acc: 0.7500\n",
      "Epoch 95/100\n",
      " - 1s - loss: 0.2046 - acc: 0.9043 - val_loss: 3.2910 - val_acc: 0.7500\n",
      "Epoch 96/100\n",
      " - 1s - loss: 0.2034 - acc: 0.9043 - val_loss: 3.2921 - val_acc: 0.7500\n",
      "Epoch 97/100\n",
      " - 1s - loss: 0.2039 - acc: 0.9043 - val_loss: 3.3816 - val_acc: 0.7500\n",
      "Epoch 98/100\n",
      " - 1s - loss: 0.2048 - acc: 0.9043 - val_loss: 3.3421 - val_acc: 0.7500\n",
      "Epoch 99/100\n",
      " - 1s - loss: 0.2038 - acc: 0.9043 - val_loss: 3.3293 - val_acc: 0.7500\n",
      "Epoch 100/100\n",
      " - 1s - loss: 0.2035 - acc: 0.9043 - val_loss: 3.4251 - val_acc: 0.7500\n"
     ]
    },
    {
     "data": {
      "text/plain": [
       "<keras.callbacks.History at 0xfaa9828>"
      ]
     },
     "execution_count": 23,
     "metadata": {},
     "output_type": "execute_result"
    }
   ],
   "source": [
    "classifier.fit(X_train, y_train, batch_size = 10, epochs = 100, verbose=2, validation_data = [X_test, y_test])"
   ]
  },
  {
   "cell_type": "markdown",
   "metadata": {},
   "source": [
    "<b>Predicting using the training set</b>"
   ]
  },
  {
   "cell_type": "code",
   "execution_count": 24,
   "metadata": {
    "collapsed": false
   },
   "outputs": [
    {
     "data": {
      "text/plain": [
       "array([[  9.79284209e-07],\n",
       "       [  9.70875135e-07],\n",
       "       [  9.70475185e-07],\n",
       "       [  9.70506676e-07],\n",
       "       [  9.70475185e-07],\n",
       "       [  9.70530778e-07],\n",
       "       [  9.70475185e-07],\n",
       "       [  9.70475185e-07],\n",
       "       [  9.73435817e-07],\n",
       "       [  9.70475185e-07]], dtype=float32)"
      ]
     },
     "execution_count": 24,
     "metadata": {},
     "output_type": "execute_result"
    }
   ],
   "source": [
    "y_pred = classifier.predict(X_test)\n",
    "y_pred[0:10]"
   ]
  },
  {
   "cell_type": "code",
   "execution_count": 25,
   "metadata": {
    "collapsed": false
   },
   "outputs": [
    {
     "data": {
      "text/plain": [
       "array([[False],\n",
       "       [False],\n",
       "       [False],\n",
       "       [False],\n",
       "       [False],\n",
       "       [False],\n",
       "       [False],\n",
       "       [False],\n",
       "       [False],\n",
       "       [False]], dtype=bool)"
      ]
     },
     "execution_count": 25,
     "metadata": {},
     "output_type": "execute_result"
    }
   ],
   "source": [
    "y_pred = (y_pred > 0.5)\n",
    "y_pred[0:10]"
   ]
  },
  {
   "cell_type": "markdown",
   "metadata": {},
   "source": [
    "<b>Checking the confusion matrix</b>"
   ]
  },
  {
   "cell_type": "code",
   "execution_count": 26,
   "metadata": {
    "collapsed": false
   },
   "outputs": [
    {
     "data": {
      "text/plain": [
       "array([[225,   0],\n",
       "       [ 75,   0]], dtype=int64)"
      ]
     },
     "execution_count": 26,
     "metadata": {},
     "output_type": "execute_result"
    }
   ],
   "source": [
    "from sklearn.metrics import confusion_matrix\n",
    "cm = confusion_matrix(y_test, y_pred)\n",
    "cm"
   ]
  },
  {
   "cell_type": "code",
   "execution_count": null,
   "metadata": {
    "collapsed": true
   },
   "outputs": [],
   "source": []
  }
 ],
 "metadata": {
  "kernelspec": {
   "display_name": "Python 3",
   "language": "python",
   "name": "python3"
  },
  "language_info": {
   "codemirror_mode": {
    "name": "ipython",
    "version": 3
   },
   "file_extension": ".py",
   "mimetype": "text/x-python",
   "name": "python",
   "nbconvert_exporter": "python",
   "pygments_lexer": "ipython3",
   "version": "3.6.0"
  },
  "latex_envs": {
   "LaTeX_envs_menu_present": true,
   "autoclose": false,
   "autocomplete": true,
   "bibliofile": "biblio.bib",
   "cite_by": "apalike",
   "current_citInitial": 1,
   "eqLabelWithNumbers": true,
   "eqNumInitial": 1,
   "hotkeys": {
    "equation": "Ctrl-E",
    "itemize": "Ctrl-I"
   },
   "labels_anchors": false,
   "latex_user_defs": false,
   "report_style_numbering": false,
   "user_envs_cfg": false
  },
  "toc": {
   "base_numbering": 1,
   "nav_menu": {},
   "number_sections": false,
   "sideBar": true,
   "skip_h1_title": false,
   "title_cell": "Table of Contents",
   "title_sidebar": "Contents",
   "toc_cell": false,
   "toc_position": {},
   "toc_section_display": true,
   "toc_window_display": false
  }
 },
 "nbformat": 4,
 "nbformat_minor": 2
}
